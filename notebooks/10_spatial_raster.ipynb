{
 "cells": [
  {
   "cell_type": "markdown",
   "metadata": {},
   "source": [
    "# Lecture 10: Spatial data management - raster formats"
   ]
  },
  {
   "cell_type": "markdown",
   "metadata": {},
   "source": [
    "*Rasterio* is a highly useful module for raster processing which you can use for reading and writing several different raster formats in Python."
   ]
  },
  {
   "cell_type": "markdown",
   "metadata": {},
   "source": [
    "## How to install *rasterio*?\n",
    "\n",
    "We need to install the rasterio package.\n",
    "\n",
    "### Anaconda\n",
    "\n",
    "If you have Anaconda installed, open the *Anaconda Prompt* and type in:\n",
    "```\n",
    "conda install -c conda-forge rasterio\n",
    "```\n",
    "\n",
    "### Python Package Installer (pip)\n",
    "\n",
    "If you have standalone Python3 and Jupyter Notebook install on Linux, open a command prompt / terminal and type in:\n",
    "```\n",
    "pip3 install rasterio\n",
    "```\n",
    "\n",
    "Note that on Windows, the installation of *rasterio* is much more complicated with *pip* and is only recommended for advanced Python users."
   ]
  },
  {
   "cell_type": "markdown",
   "metadata": {},
   "source": [
    "## How to use *rasterio*?\n",
    "\n",
    "The rasterio package is also a module which you can simply import.\n",
    "```python\n",
    "import rasterio\n",
    "```"
   ]
  },
  {
   "cell_type": "markdown",
   "metadata": {},
   "source": [
    "## Opening a dataset"
   ]
  },
  {
   "cell_type": "markdown",
   "metadata": {},
   "source": [
    "The `open()` function takes a path string or path-like object and returns an opened dataset object.\n",
    "The path may point to a file of any supported raster format."
   ]
  },
  {
   "cell_type": "markdown",
   "metadata": {},
   "source": [
    "The `LC08_L1TP_188027_20200420_20200420_01_RT.tif` file is a Landsat 8 satellite image from Budapest and parts of Western-Hungary, acquired on 2020 April 20.  \n",
    "Download: https://gis.inf.elte.hu/files/public/landsat-budapest-2020 (1.4 GB)"
   ]
  },
  {
   "cell_type": "code",
   "execution_count": null,
   "metadata": {},
   "outputs": [],
   "source": [
    "import rasterio\n",
    "budapest_2020 = rasterio.open('LC08_L1TP_188027_20200420_20200420_01_RT.tif')"
   ]
  },
  {
   "cell_type": "markdown",
   "metadata": {},
   "source": [
    "Dataset objects have some attributes regarding the opened file:"
   ]
  },
  {
   "cell_type": "code",
   "execution_count": null,
   "metadata": {},
   "outputs": [],
   "source": [
    "print(budapest_2020.name)\n",
    "print(budapest_2020.mode) # by default the file is opened in read mode\n",
    "print(budapest_2020.closed) # will be True after closed() called"
   ]
  },
  {
   "cell_type": "markdown",
   "metadata": {},
   "source": [
    "Properties of the raster data stored in the example GeoTIFF can be accessed through attributes of the opened dataset object."
   ]
  },
  {
   "cell_type": "code",
   "execution_count": null,
   "metadata": {},
   "outputs": [],
   "source": [
    "print(budapest_2020.count) # band count\n",
    "print(budapest_2020.width) # dimensions\n",
    "print(budapest_2020.height)"
   ]
  },
  {
   "cell_type": "markdown",
   "metadata": {},
   "source": [
    "## Dataset georeferencing"
   ]
  },
  {
   "cell_type": "markdown",
   "metadata": {},
   "source": [
    "A GIS raster dataset is different from an ordinary image; its elements (or “pixels”) are mapped to regions on the earth’s surface. Every pixels of a dataset is contained within a spatial bounding box."
   ]
  },
  {
   "cell_type": "code",
   "execution_count": null,
   "metadata": {},
   "outputs": [],
   "source": [
    "print(budapest_2020.bounds)"
   ]
  },
  {
   "cell_type": "markdown",
   "metadata": {},
   "source": [
    "Our example covers the world from 210285 meters to 449415 meters, left to right, and 5135985 meters to 5378115 meters bottom to top. It covers a region 239.13 kilometers wide by 242.13 kilometers high."
   ]
  },
  {
   "cell_type": "markdown",
   "metadata": {},
   "source": [
    "The value of `bounds` attribute is derived from a more fundamental attribute: the dataset’s geospatial transform."
   ]
  },
  {
   "cell_type": "code",
   "execution_count": null,
   "metadata": {},
   "outputs": [],
   "source": [
    "print(budapest_2020.transform)"
   ]
  },
  {
   "cell_type": "markdown",
   "metadata": {},
   "source": [
    "A dataset’s `transform` is an affine transformation matrix that maps pixel locations in *(row, col)* coordinates to *(x, y)* spatial positions. The product of this matrix and `(0, 0)`, the row and column coordinates of the upper left corner of the dataset, is the spatial position of the upper left corner."
   ]
  },
  {
   "cell_type": "code",
   "execution_count": null,
   "metadata": {},
   "outputs": [],
   "source": [
    "print(budapest_2020.transform * (0, 0))"
   ]
  },
  {
   "cell_type": "markdown",
   "metadata": {},
   "source": [
    "The position of the lower right corner is obtained similarly."
   ]
  },
  {
   "cell_type": "code",
   "execution_count": null,
   "metadata": {},
   "outputs": [],
   "source": [
    "print(budapest_2020.transform * (budapest_2020.width, budapest_2020.height))"
   ]
  },
  {
   "cell_type": "markdown",
   "metadata": {},
   "source": [
    "But what do these numbers mean? 209985 meters from where? These coordinate values are relative to the origin of the dataset’s coordinate reference system (CRS)."
   ]
  },
  {
   "cell_type": "code",
   "execution_count": null,
   "metadata": {},
   "outputs": [],
   "source": [
    "print(budapest_2020.crs)"
   ]
  },
  {
   "cell_type": "markdown",
   "metadata": {},
   "source": [
    "All metadata for the whole raster dataset can be displayed easily if desired:"
   ]
  },
  {
   "cell_type": "code",
   "execution_count": null,
   "metadata": {},
   "outputs": [],
   "source": [
    "print(budapest_2020.meta)"
   ]
  },
  {
   "cell_type": "markdown",
   "metadata": {},
   "source": [
    "## Reading raster data"
   ]
  },
  {
   "cell_type": "markdown",
   "metadata": {},
   "source": [
    "Data from a raster band can be accessed by the band’s index number. Following the [GDAL](https://gdal.org/) convention (on which library Rasterio depends on), bands are indexed from 1."
   ]
  },
  {
   "cell_type": "code",
   "execution_count": null,
   "metadata": {},
   "outputs": [],
   "source": [
    "print(budapest_2020.indexes)"
   ]
  },
  {
   "cell_type": "markdown",
   "metadata": {},
   "source": [
    "Landsat 8 satellite images contain 11 bands, in the follwoing order:\n",
    "\n",
    "| Band Number | Description               | Wavelength        | Resolution |\n",
    "|-------------|---------------------------|-------------------|------------|\n",
    "| Band 1      | Coastal / Aerosol         | 0.433 to 0.453 µm | 30 meter   |\n",
    "| Band 2      | Visible blue              | 0.450 to 0.515 µm | 30 meter   |\n",
    "| Band 3      | Visible green             | 0.525 to 0.600 µm | 30 meter   |\n",
    "| Band 4      | Visible red               | 0.630 to 0.680 µm | 30 meter   |\n",
    "| Band 5      | Near-infrared             | 0.845 to 0.885 µm | 30 meter   |\n",
    "| Band 6      | Short wavelength infrared | 1.56 to 1.66 µm   | 30 meter   |\n",
    "| Band 7      | Short wavelength infrared | 2.10 to 2.30 µm   | 60 meter   |\n",
    "| Band 8      | Panchromatic              | 0.50 to 0.68 µm   | 15 meter   |\n",
    "| Band 9      | Cirrus                    | 1.36 to 1.39 µm   | 30 meter   |\n",
    "| Band 10     | Long wavelength infrared  | 10.3 to 11.3 µm   | 100 meter  |\n",
    "| Band 11     | Long wavelength infrared  | 11.5 to 12.5 µm   | 100 meter  |"
   ]
  },
  {
   "cell_type": "markdown",
   "metadata": {},
   "source": [
    "We can read the bands of a dataset with the `read()` method:"
   ]
  },
  {
   "cell_type": "code",
   "execution_count": null,
   "metadata": {},
   "outputs": [],
   "source": [
    "red = budapest_2020.read(4)\n",
    "green = budapest_2020.read(3)\n",
    "blue = budapest_2020.read(2)"
   ]
  },
  {
   "cell_type": "markdown",
   "metadata": {},
   "source": [
    "Bands are simply 2D mathematical matrixes."
   ]
  },
  {
   "cell_type": "code",
   "execution_count": null,
   "metadata": {},
   "outputs": [],
   "source": [
    "print(type(red))\n",
    "print(red)"
   ]
  },
  {
   "cell_type": "markdown",
   "metadata": {},
   "source": [
    "Get the range and the mean of the values:"
   ]
  },
  {
   "cell_type": "code",
   "execution_count": null,
   "metadata": {},
   "outputs": [],
   "source": [
    "print(red.min())\n",
    "print(red.max())\n",
    "print(red.mean())"
   ]
  },
  {
   "cell_type": "markdown",
   "metadata": {},
   "source": [
    "Values from the array can be addressed by their row, column index."
   ]
  },
  {
   "cell_type": "code",
   "execution_count": null,
   "metadata": {},
   "outputs": [],
   "source": [
    "print(red[2000, 2000]) # random position"
   ]
  },
  {
   "cell_type": "markdown",
   "metadata": {},
   "source": [
    "## Plotting"
   ]
  },
  {
   "cell_type": "markdown",
   "metadata": {},
   "source": [
    "Rasterio reads raster data into mathematical matrixes (*numpy arrays*), so plotting a single band as two dimensional data can be accomplished directly with *matplotlib*."
   ]
  },
  {
   "cell_type": "code",
   "execution_count": null,
   "metadata": {},
   "outputs": [],
   "source": [
    "import matplotlib.pyplot as plt\n",
    "%matplotlib inline\n",
    "\n",
    "plt.imshow(red)\n",
    "plt.colorbar()\n",
    "plt.show()"
   ]
  },
  {
   "cell_type": "markdown",
   "metadata": {},
   "source": [
    "In our case the data is not evenly distributed in the range $[0, 65535]$, most values are below 20000. The maximum and minimum value for visualiztion can be overriden with the `vmax` and `vmin` parameters."
   ]
  },
  {
   "cell_type": "code",
   "execution_count": null,
   "metadata": {},
   "outputs": [],
   "source": [
    "plt.imshow(red, vmax=20000)\n",
    "plt.colorbar()\n",
    "plt.show()"
   ]
  },
  {
   "cell_type": "markdown",
   "metadata": {},
   "source": [
    "Calculate the 99.99% percentile of each bands to remove only the few outliers (0.01%) from visualization."
   ]
  },
  {
   "cell_type": "code",
   "execution_count": null,
   "metadata": {},
   "outputs": [],
   "source": [
    "import numpy as np\n",
    "\n",
    "red_max = np.percentile(red, 99.99)\n",
    "blue_max = np.percentile(blue, 99.99)\n",
    "green_max = np.percentile(green, 99.99)\n",
    "print(red_max)\n",
    "print(blue_max)\n",
    "print(green_max)"
   ]
  },
  {
   "cell_type": "code",
   "execution_count": null,
   "metadata": {},
   "outputs": [],
   "source": [
    "plt.imshow(red, vmax=red_max)\n",
    "plt.colorbar()\n",
    "plt.show()"
   ]
  },
  {
   "cell_type": "markdown",
   "metadata": {},
   "source": [
    "Color maps can also be used with the `cmap` parameter (*see Lecture 9 for more details*)."
   ]
  },
  {
   "cell_type": "code",
   "execution_count": null,
   "metadata": {},
   "outputs": [],
   "source": [
    "plt.imshow(red, vmax=red_max, cmap='Reds')\n",
    "plt.colorbar()\n",
    "plt.show()"
   ]
  },
  {
   "cell_type": "markdown",
   "metadata": {},
   "source": [
    "### Multi-band plotting"
   ]
  },
  {
   "cell_type": "markdown",
   "metadata": {},
   "source": [
    "Rasterio also provides `rasterio.plot.show()` to perform common tasks such as displaying multi-band images as RGB and labeling the axes with proper geo-referenced extents."
   ]
  },
  {
   "cell_type": "markdown",
   "metadata": {},
   "source": [
    "It can be used for a single band:"
   ]
  },
  {
   "cell_type": "code",
   "execution_count": null,
   "metadata": {},
   "outputs": [],
   "source": [
    "from rasterio.plot import show\n",
    "\n",
    "show(red, vmax=red_max)\n",
    "plt.show()"
   ]
  },
  {
   "cell_type": "markdown",
   "metadata": {},
   "source": [
    "For multiple bands to visualize in a true-color image, the values must be in the range of $[0, 255]$ or in the float range of $[0, 1]$."
   ]
  },
  {
   "cell_type": "code",
   "execution_count": null,
   "metadata": {},
   "outputs": [],
   "source": [
    "# astype('f4') is a numpy function to convert to float (4 byte)\n",
    "redf = red.astype('f4') / red_max\n",
    "bluef = blue.astype('f4') / blue_max\n",
    "greenf = green.astype('f4') / green_max\n",
    "rgb = [redf, greenf, bluef]"
   ]
  },
  {
   "cell_type": "code",
   "execution_count": null,
   "metadata": {},
   "outputs": [],
   "source": [
    "show(rgb)\n",
    "plt.show()"
   ]
  },
  {
   "cell_type": "markdown",
   "metadata": {},
   "source": [
    "Increase the figure size:"
   ]
  },
  {
   "cell_type": "code",
   "execution_count": null,
   "metadata": {},
   "outputs": [],
   "source": [
    "plt.figure(figsize=[10,10])\n",
    "show(rgb)\n",
    "plt.show()"
   ]
  },
  {
   "cell_type": "markdown",
   "metadata": {},
   "source": [
    "## Example computation: NDVI"
   ]
  },
  {
   "cell_type": "markdown",
   "metadata": {},
   "source": [
    "The [Normalized Difference Vegetation Index](https://en.wikipedia.org/wiki/Normalized_difference_vegetation_index) is a simple indicator that can be used to assess whether the target includes healthy vegetation. This calculation uses two bands of a multispectral image dataset, the Red and Near-Infrared (NIR) bands."
   ]
  },
  {
   "cell_type": "code",
   "execution_count": null,
   "metadata": {},
   "outputs": [],
   "source": [
    "nir = budapest_2020.read(5)\n",
    "plt.imshow(nir, vmax=2**15)\n",
    "plt.colorbar()\n",
    "plt.show()"
   ]
  },
  {
   "cell_type": "code",
   "execution_count": null,
   "metadata": {},
   "outputs": [],
   "source": [
    "nir_max = np.percentile(nir, 99.99)\n",
    "print(nir_max)\n",
    "nirf = nir.astype('f4') / nir_max"
   ]
  },
  {
   "cell_type": "markdown",
   "metadata": {},
   "source": [
    "The value of *NVDI* can be calculated with a simple mathematical formula:\n",
    "\n",
    "$$NDVI = \\frac{NIR - Red}{NIR + Red}$$"
   ]
  },
  {
   "cell_type": "markdown",
   "metadata": {},
   "source": [
    "With Rasterio we can perform the computation on the bands themselves, which will apply the computation to each pixel-pairs."
   ]
  },
  {
   "cell_type": "code",
   "execution_count": null,
   "metadata": {},
   "outputs": [],
   "source": [
    "def calc_ndvi(nir, red):\n",
    "    ndvi = (nir - red) / (nir + red)\n",
    "    return ndvi\n",
    "\n",
    "ndvi = calc_ndvi(nirf, redf)\n",
    "plt.figure(figsize=[20, 20])\n",
    "plt.imshow(ndvi, cmap='RdYlGn')\n",
    "plt.colorbar()\n",
    "plt.show()"
   ]
  },
  {
   "cell_type": "markdown",
   "metadata": {},
   "source": [
    "The value range of an NDVI is -1 to 1. Negative values of NDVI (values approaching -1) correspond to water. Values close to zero (-0.1 to 0.1) generally correspond to barren areas of rock, sand, or snow. Low, positive values represent shrub and grassland (approximately 0.2 to 0.4), while high values indicate temperate and tropical rainforests (values approaching 1)."
   ]
  }
 ],
 "metadata": {
  "kernelspec": {
   "display_name": "Python 3",
   "language": "python",
   "name": "python3"
  },
  "language_info": {
   "codemirror_mode": {
    "name": "ipython",
    "version": 3
   },
   "file_extension": ".py",
   "mimetype": "text/x-python",
   "name": "python",
   "nbconvert_exporter": "python",
   "pygments_lexer": "ipython3",
   "version": "3.6.9"
  }
 },
 "nbformat": 4,
 "nbformat_minor": 4
}
