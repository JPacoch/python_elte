{
 "cells": [
  {
   "cell_type": "markdown",
   "metadata": {},
   "source": [
    "# Lecture 8: Plotting and diagram visualization"
   ]
  },
  {
   "cell_type": "markdown",
   "metadata": {},
   "source": [
    "*Matplotlib* is the most popular 2D plotting library in Python. Using matplotlib, you can create pretty much any type of plot.\n",
    "\n",
    "*Pandas* has **tight integration** with *matplotlib*."
   ]
  },
  {
   "cell_type": "markdown",
   "metadata": {},
   "source": [
    "## How to install matplotlib?"
   ]
  },
  {
   "cell_type": "markdown",
   "metadata": {},
   "source": [
    "If you have Anaconda installed, then matplotlib was already installed together with it.\n",
    "\n",
    "If you have a standalone Python3 and Jupyter Notebook installation, open a command prompt / terminal and type in:\n",
    "```\n",
    "pip3 install matplotlib\n",
    "```"
   ]
  },
  {
   "cell_type": "markdown",
   "metadata": {},
   "source": [
    "## How to use matplotlib?"
   ]
  },
  {
   "cell_type": "markdown",
   "metadata": {},
   "source": [
    "We will use the *pyplot module* inside the matlplotlib package for plotting. You can simply import this module as usual. It is usually aliased with the `plt` abbreviation:\n",
    "```python\n",
    "import matplotlib.pyplot as plt\n",
    "```"
   ]
  },
  {
   "cell_type": "markdown",
   "metadata": {},
   "source": [
    "---"
   ]
  },
  {
   "cell_type": "markdown",
   "metadata": {},
   "source": [
    "## The dataset"
   ]
  },
  {
   "cell_type": "markdown",
   "metadata": {},
   "source": [
    "Lets use the *Fortune 500* company list for year 2017, which shall be already familiar from the *mandatory assignment*. The *Fortune 500* is an annual list compiled and published by *Fortune magazine* that ranks 500 of the largest United States corporations by total revenue for their respective fiscal years. For each company the following information is given:\n",
    " 1. rank,\n",
    " 2. company name,\n",
    " 3. industory sector,\n",
    " 4. revenue (in million dollars),\n",
    " 5. profit (in million dollars)\n",
    " 6. employee number.\n",
    "\n",
    "The dataset is given in the `fortune500_2017.csv` file. The used delimiter is the semicolon (`;`) character."
   ]
  },
  {
   "cell_type": "code",
   "execution_count": null,
   "metadata": {},
   "outputs": [],
   "source": [
    "import pandas as pd\n",
    "import matplotlib.pyplot as plt\n",
    "\n",
    "# Special Jupyter Notebook command, so the plots by matplotlib will be display inside the Jupyter Notebook\n",
    "%matplotlib inline\n",
    "\n",
    "fortune500 = pd.read_csv('fortune500_2017.csv', delimiter = ';')\n",
    "fortune500.columns = ['rank', 'company', 'sector', 'revenue', 'profit', 'employees']\n",
    "display(fortune500)"
   ]
  },
  {
   "cell_type": "markdown",
   "metadata": {},
   "source": [
    "Lets take just the top 50 companies, so visualization will be easier to overview in the following tasks:"
   ]
  },
  {
   "cell_type": "code",
   "execution_count": null,
   "metadata": {},
   "outputs": [],
   "source": [
    "fortune50 = fortune500.head(50)\n",
    "display(fortune50)"
   ]
  },
  {
   "cell_type": "markdown",
   "metadata": {},
   "source": [
    "---"
   ]
  },
  {
   "cell_type": "markdown",
   "metadata": {},
   "source": [
    "## Plotting"
   ]
  },
  {
   "cell_type": "markdown",
   "metadata": {},
   "source": [
    "Plots can be generated with the `plot()` function of a Pandas *DataFrame* (table) or *Series* (column). The most important parameter of the function is the `kind` parameter, which defines the type of plot to be generated. Supported kinds are (non-exhaustive list):\n",
    "* `line`\n",
    "* `bar` (vertical bar)\n",
    "* `barh` (horizontal bar)\n",
    "* `scatter`\n",
    "* `hist` (histogram)\n",
    "* `box` (boxplot\n",
    "* `pie`\n",
    "\n",
    "After a plot is generated, it can be displayed by the `show()` function of the `matplotlib.pyplot` module."
   ]
  },
  {
   "cell_type": "markdown",
   "metadata": {},
   "source": [
    "### Vertical bar plot"
   ]
  },
  {
   "cell_type": "markdown",
   "metadata": {},
   "source": [
    "Display a bar plot of the revenue of the top 50 Fortune companies."
   ]
  },
  {
   "cell_type": "code",
   "execution_count": null,
   "metadata": {},
   "outputs": [],
   "source": [
    "fortune50.plot(kind='bar', x='company', y='revenue', figsize = [15, 3])\n",
    "plt.show() # matplotlib.pyplot was imported as plt"
   ]
  },
  {
   "cell_type": "markdown",
   "metadata": {},
   "source": [
    "The size of the diagram can be configured with the `figsize` parameter. The size is given in inches (1 inch = 2.54 centimeters).  \n",
    "The default size is `[6.4, 4.8]`."
   ]
  },
  {
   "cell_type": "markdown",
   "metadata": {},
   "source": [
    "The bar diagram can be created directly on the selected *Series* (column of data). In this case the Series will be placed along axis Y, while the horizontal axis X will become the index of the *DataFrame*."
   ]
  },
  {
   "cell_type": "code",
   "execution_count": null,
   "metadata": {},
   "outputs": [],
   "source": [
    "fortune50['revenue'].plot(kind='bar', figsize = [15, 3])\n",
    "plt.show()"
   ]
  },
  {
   "cell_type": "markdown",
   "metadata": {},
   "source": [
    "The index column can be modified through the `set_index` function (see Lecture 6 for more details) of the *DataFrame* and a **new** *DataFrame* is created so:"
   ]
  },
  {
   "cell_type": "code",
   "execution_count": null,
   "metadata": {},
   "outputs": [],
   "source": [
    "fortune50_indexed = fortune50.set_index('company')\n",
    "display(fortune50_indexed)"
   ]
  },
  {
   "cell_type": "markdown",
   "metadata": {},
   "source": [
    "Creating the bar plot from the `fortune50_indexed` *DataFrame* will display the company names as labels correctly."
   ]
  },
  {
   "cell_type": "code",
   "execution_count": null,
   "metadata": {},
   "outputs": [],
   "source": [
    "fortune50_indexed['revenue'].plot(kind='bar', figsize = [15, 3])\n",
    "plt.show()"
   ]
  },
  {
   "cell_type": "markdown",
   "metadata": {},
   "source": [
    "#### Visual tuning"
   ]
  },
  {
   "cell_type": "markdown",
   "metadata": {},
   "source": [
    "The color of the bars can be defined with the `color` parameter.\n",
    "The width of the bars is set by the `width` parameter, 1.0 meaning *100%*."
   ]
  },
  {
   "cell_type": "code",
   "execution_count": null,
   "metadata": {},
   "outputs": [],
   "source": [
    "fortune50_indexed['revenue'].plot(kind='bar', figsize = [15, 3], color = 'red', width = 1.0)\n",
    "plt.show()"
   ]
  },
  {
   "cell_type": "markdown",
   "metadata": {},
   "source": [
    "Multiple colors can be passed in a list."
   ]
  },
  {
   "cell_type": "code",
   "execution_count": null,
   "metadata": {},
   "outputs": [],
   "source": [
    "fortune50_indexed['revenue'].plot(kind='bar', figsize = [15, 3], color = ['red', 'green', 'yellow'], width = 1.0)\n",
    "plt.show()"
   ]
  },
  {
   "cell_type": "markdown",
   "metadata": {},
   "source": [
    "#### Outlook on passing arguments by name in Python"
   ]
  },
  {
   "cell_type": "markdown",
   "metadata": {},
   "source": [
    "In Python arguments can be passed by either there *position* or by their *name*.\n",
    "\n",
    "E.g. for the `read_csv()` function call below the file name (`fortune500_2017.csv`) is passed by its position (first argument), while the delimiter (`;`) is passed by its name.\n",
    "```python\n",
    "fortune500 = pd.read_csv('fortune500_2017.csv', delimiter = ';')\n",
    "```"
   ]
  },
  {
   "cell_type": "markdown",
   "metadata": {},
   "source": [
    "Let's define the `quadratic(a, b, c)` function which solves the [quadratic equation](https://en.wikipedia.org/wiki/Quadratic_equation):\n",
    "$$ax^2+bx+c=0$$\n",
    "This can be done by applying the well-known [quadratic formula](https://en.wikipedia.org/wiki/Quadratic_formula):\n",
    "$$x=\\frac{-b\\pm\\sqrt[]{b^2-4ac}}{2a}$$"
   ]
  },
  {
   "cell_type": "code",
   "execution_count": null,
   "metadata": {},
   "outputs": [],
   "source": [
    "import math\n",
    "\n",
    "def quadratic(a, b, c):\n",
    "    x1 = -b / (2*a)\n",
    "    x2 = math.sqrt(b**2 - 4*a*c) / (2*a)\n",
    "    return (x1 + x2), (x1 - x2)\n",
    "\n",
    "# Passing parameters by position\n",
    "print(quadratic(-2, 10, 12)) # -2 * x^2 + 10 * x + 12 = 0 is true for x = -1 and x = 6\n",
    "\n",
    "# Passing parameters by name\n",
    "print(quadratic(a = -2, b = 10, c = 12))\n",
    "\n",
    "# The two approaches can also be mixed, but the positional arguments must be first!\n",
    "print(quadratic(-2, c = 12, b = 10))"
   ]
  },
  {
   "cell_type": "markdown",
   "metadata": {},
   "source": [
    "### Horizontal bar plot"
   ]
  },
  {
   "cell_type": "markdown",
   "metadata": {},
   "source": [
    "Display a horizontal bar plot of the profit of the top 50 Fortune companies."
   ]
  },
  {
   "cell_type": "code",
   "execution_count": null,
   "metadata": {},
   "outputs": [],
   "source": [
    "fortune50.plot(kind='barh', x='company', y='profit', figsize = [10, 10])\n",
    "plt.show()"
   ]
  },
  {
   "cell_type": "markdown",
   "metadata": {},
   "source": [
    "Note that for the horizontal bar plot, the *axis X* is the vertical axis, and *axis Y* is the horizontal axis. It is defined by this was, so only the `kind` parameter of the `plot()` function has to be changed when switching to a different type of diagram."
   ]
  },
  {
   "cell_type": "markdown",
   "metadata": {},
   "source": [
    "Before visualizing the data, sort it by the column profit, instead of the default revenue."
   ]
  },
  {
   "cell_type": "code",
   "execution_count": null,
   "metadata": {},
   "outputs": [],
   "source": [
    "fortune50.sort_values(by = 'profit').plot(kind='barh', x='company', y='profit', figsize = [10, 10])\n",
    "plt.show()"
   ]
  },
  {
   "cell_type": "markdown",
   "metadata": {},
   "source": [
    "### Scatter plot"
   ]
  },
  {
   "cell_type": "markdown",
   "metadata": {},
   "source": [
    "Display a scatter plot on the correlation of the revenue and the profit columns of the top 50 Fortune companies\n",
    "\n",
    "**Question:** What correlation can be expected between these 2 attributes of companies?"
   ]
  },
  {
   "cell_type": "code",
   "execution_count": null,
   "metadata": {},
   "outputs": [],
   "source": [
    "fortune50.plot(kind='scatter', x='revenue', y='profit', title='Revenue vs. Profit of Top 50 Fortune Companies')\n",
    "plt.show()"
   ]
  },
  {
   "cell_type": "markdown",
   "metadata": {},
   "source": [
    "A title can be given to be displayed above the generated diagram with the `title` parameter."
   ]
  },
  {
   "cell_type": "markdown",
   "metadata": {},
   "source": [
    "Extend the scatter plot for all top 500 Fortune companies."
   ]
  },
  {
   "cell_type": "code",
   "execution_count": null,
   "metadata": {},
   "outputs": [],
   "source": [
    "fortune500.plot(kind='scatter', x='revenue', y='profit', title='Revenue vs. Profit of Fortune 500 Companies')\n",
    "plt.show()"
   ]
  },
  {
   "cell_type": "markdown",
   "metadata": {},
   "source": [
    "As we can observer there is a moderate correlation between revenue and profit, which matches our expectation."
   ]
  },
  {
   "cell_type": "markdown",
   "metadata": {},
   "source": [
    "The limits of the X and Y axes can be configured with the `xlim` and `ylim` parameters, so the *outliers* can be excluded from the visualization. Both a minimum and a maximum biundary can be given, as a tuple."
   ]
  },
  {
   "cell_type": "code",
   "execution_count": null,
   "metadata": {},
   "outputs": [],
   "source": [
    "fortune500.plot(kind='scatter', x='revenue', y='profit', title='Revenue vs. Profit', xlim=(0, 200000), ylim=(-10000, 30000))\n",
    "plt.show()"
   ]
  },
  {
   "cell_type": "markdown",
   "metadata": {},
   "source": [
    "#### Short outlook on correlation (optional)"
   ]
  },
  {
   "cell_type": "markdown",
   "metadata": {},
   "source": [
    "The correlation matrix between *Series* of a *Pandas DataFrame* can be generated with the `corr()` function:"
   ]
  },
  {
   "cell_type": "code",
   "execution_count": null,
   "metadata": {},
   "outputs": [],
   "source": [
    "display(fortune50.corr())"
   ]
  },
  {
   "cell_type": "markdown",
   "metadata": {},
   "source": [
    "Or just for 2 selected Series:"
   ]
  },
  {
   "cell_type": "code",
   "execution_count": null,
   "metadata": {},
   "outputs": [],
   "source": [
    "print(fortune50['revenue'].corr(fortune50['profit']))"
   ]
  },
  {
   "cell_type": "markdown",
   "metadata": {},
   "source": [
    "Every correlation has two qualities: *strength* and *direction*. The direction of a correlation is either positive or negative. When two variables have a positive correlation, it means the variables move in the same direction. This means that as one variable increases, so does the other one. In a negative correlation, the variables move in inverse, or opposite, directions. In other words, as one variable increases, the other variable decreases.\n",
    "\n",
    "We determine the strength of a relationship between two correlated variables by looking at the numbers. A correlation of 0 means that no relationship exists between the two variables, whereas a correlation of 1 indicates a perfect positive relationship. It is uncommon to find a perfect positive relationship in the real world.\n",
    "\n",
    "The further away from 1 that a positive correlation lies, the weaker the correlation. Similarly, the further a negative correlation lies from -1, the weaker the correlation.\n",
    "The following guidelines are useful when determining the strength of a positive correlation:\n",
    "* 1: perfect positive correlation\n",
    "* .70 to .99: very strong positive relationship\n",
    "* .40 to .69: strong positive relationship\n",
    "* .30 to .39: moderate positive relationship\n",
    "* .20 to .29: weak positive relationship\n",
    "* .01 to .19: no or negligible relationship\n",
    "* 0: no relationship exists\n",
    "\n"
   ]
  },
  {
   "cell_type": "markdown",
   "metadata": {},
   "source": [
    "### Histogram"
   ]
  },
  {
   "cell_type": "markdown",
   "metadata": {},
   "source": [
    "A histogram is an accurate representation of the distribution of numerical data. It differs from a bar graph, in the sense that a bar graph relates two variables, but a histogram relates only one."
   ]
  },
  {
   "cell_type": "markdown",
   "metadata": {},
   "source": [
    "Display a histogram on the profit of the top 50 Fortune companies."
   ]
  },
  {
   "cell_type": "code",
   "execution_count": null,
   "metadata": {},
   "outputs": [],
   "source": [
    "fortune50['profit'].plot(kind='hist')\n",
    "plt.show()"
   ]
  },
  {
   "cell_type": "markdown",
   "metadata": {},
   "source": [
    "The number of columns (called *bins* or *buckets*) in the histrogram can be configured with the `bins` parameter."
   ]
  },
  {
   "cell_type": "code",
   "execution_count": null,
   "metadata": {},
   "outputs": [],
   "source": [
    "fortune50['profit'].plot(kind='hist', bins=20)\n",
    "plt.show()"
   ]
  },
  {
   "cell_type": "markdown",
   "metadata": {},
   "source": [
    "Extend the histogram to cover all 500 Fortune companies. Apply a logarithmic scale with the `logx` / `logy` parameter."
   ]
  },
  {
   "cell_type": "code",
   "execution_count": null,
   "metadata": {},
   "outputs": [],
   "source": [
    "fortune500['profit'].plot(kind='hist', bins=50, logy=True)\n",
    "plt.show()"
   ]
  },
  {
   "cell_type": "markdown",
   "metadata": {},
   "source": [
    "### Boxplot"
   ]
  },
  {
   "cell_type": "markdown",
   "metadata": {},
   "source": [
    "In descriptive statistics, a *boxplot* is a method for graphically depicting groups of numerical data through their quartiles. "
   ]
  },
  {
   "cell_type": "markdown",
   "metadata": {},
   "source": [
    "Display a boxplot of the profit of the top 50 Fortune companies."
   ]
  },
  {
   "cell_type": "code",
   "execution_count": null,
   "metadata": {},
   "outputs": [],
   "source": [
    "fortune50['profit'].plot(kind='box')\n",
    "plt.show()"
   ]
  },
  {
   "cell_type": "markdown",
   "metadata": {},
   "source": [
    "Explaining the graphical visualizaiton of a boxplot:\n",
    "\n",
    "![Explaining a boxplot](08_boxplot.gif \"Source: https://www.learndatasci.com/\")"
   ]
  },
  {
   "cell_type": "markdown",
   "metadata": {},
   "source": [
    "### Pie chart"
   ]
  },
  {
   "cell_type": "markdown",
   "metadata": {},
   "source": [
    "Display a pie chart on the revenue share of the top 50 Fortune companies. Since we are creating this plot on the `revenue` *Series*, we use the `fortune50_indexed` DataFrame, which was indexed with the company names, so the labels will contain them instead of numerical indices."
   ]
  },
  {
   "cell_type": "code",
   "execution_count": null,
   "metadata": {},
   "outputs": [],
   "source": [
    "fortune50_indexed['revenue'].plot(kind='pie', figsize=[10,10], label=\"\", title=\"Revenue share of the Fortune 50 companies\")\n",
    "plt.show()"
   ]
  },
  {
   "cell_type": "markdown",
   "metadata": {},
   "source": [
    "Percentages for each slice can be displayed with the `autopct` parameter:"
   ]
  },
  {
   "cell_type": "code",
   "execution_count": null,
   "metadata": {},
   "outputs": [],
   "source": [
    "fortune50_indexed['revenue'].plot(kind='pie', figsize=[10,10], autopct='%.1f%%', label=\"\", title=\"Revenue share of the Fortune 50 companies\")\n",
    "plt.show()"
   ]
  },
  {
   "cell_type": "markdown",
   "metadata": {},
   "source": [
    "### Saving a plot to file"
   ]
  },
  {
   "cell_type": "markdown",
   "metadata": {},
   "source": [
    "Intead of using the `show()` function of the `matplotlib.pyplot` module, the `savefig()` function can also be used to export and save a created plot to an external file."
   ]
  },
  {
   "cell_type": "code",
   "execution_count": null,
   "metadata": {},
   "outputs": [],
   "source": [
    "fortune50.plot(kind='bar', x='company', y='revenue', figsize = [15, 3])\n",
    "plt.savefig('08_company_revenue.png')"
   ]
  },
  {
   "cell_type": "markdown",
   "metadata": {},
   "source": [
    "Hint: look for the created file right next this Jupyter Notebook file on yourr computer."
   ]
  },
  {
   "cell_type": "markdown",
   "metadata": {},
   "source": [
    "---"
   ]
  },
  {
   "cell_type": "markdown",
   "metadata": {},
   "source": [
    "## Time Series Analyis"
   ]
  },
  {
   "cell_type": "markdown",
   "metadata": {},
   "source": [
    "Read the `fortune500_1955-2005.csv` dataset, which contains the Fortune 500 company data between the years 1955 and 2005.  \n",
    "All together the dataset contains 51 years of data, 500 rows for each year, so 25,500 rows of data.\n",
    "\n",
    "Each row stores the following data:\n",
    " 1. year,\n",
    " 2. rank,\n",
    " 3. company,\n",
    " 4. revenue (in million dollars),\n",
    " 5. profit (in million dollars).\n",
    "\n",
    "*The delimiter is a simple comma (`,`) for this file.*"
   ]
  },
  {
   "cell_type": "code",
   "execution_count": null,
   "metadata": {},
   "outputs": [],
   "source": [
    "fortune_history = pd.read_csv('fortune500_1955-2005.csv')\n",
    "fortune_history.columns = ['year', 'rank', 'company', 'revenue', 'profit']\n",
    "display(fortune_history)"
   ]
  },
  {
   "cell_type": "markdown",
   "metadata": {},
   "source": [
    "---"
   ]
  },
  {
   "cell_type": "markdown",
   "metadata": {},
   "source": [
    "### Line plot"
   ]
  },
  {
   "cell_type": "markdown",
   "metadata": {},
   "source": [
    "Line diagrams works best with a series of data, assuming continuous change between the knonw discrete values.  \n",
    "Let's visualize the revenue and profit change of the company *Exxon Mobil* between the years 1955 an 2005."
   ]
  },
  {
   "cell_type": "markdown",
   "metadata": {},
   "source": [
    "First filter the rows for the company *Exxon Mobil* and set the year as the index column."
   ]
  },
  {
   "cell_type": "code",
   "execution_count": null,
   "metadata": {},
   "outputs": [],
   "source": [
    "exxon = fortune_history[fortune_history['company'] == 'Exxon Mobil']\n",
    "exxon.set_index('year', drop=False, inplace=True)\n",
    "display(exxon)"
   ]
  },
  {
   "cell_type": "markdown",
   "metadata": {},
   "source": [
    "Now a line plot on the revenue change of Exxon Mobil between 1955 and 2005 can be displayed."
   ]
  },
  {
   "cell_type": "code",
   "execution_count": null,
   "metadata": {},
   "outputs": [],
   "source": [
    "exxon['revenue'].plot(kind='line')\n",
    "plt.show()\n",
    "\n",
    "# same:\n",
    "#exxon.plot(kind='line', x='year', y='revenue')\n",
    "#plt.show()"
   ]
  },
  {
   "cell_type": "markdown",
   "metadata": {},
   "source": [
    "### Multiple column diagrams"
   ]
  },
  {
   "cell_type": "markdown",
   "metadata": {},
   "source": [
    "Let's use multiple columns in the previous line plot, and add the profit to the diagram as a second line.\n",
    "\n",
    "Multiple plot data can be generated with the `plot()` method of Pandas *Series*. Calling the `show()` function of the `matplotlib.pyplot` module will visualize them on a single diagram."
   ]
  },
  {
   "cell_type": "code",
   "execution_count": null,
   "metadata": {},
   "outputs": [],
   "source": [
    "exxon['revenue'].plot(kind='line')\n",
    "exxon['profit'].plot(kind='line')\n",
    "plt.show()"
   ]
  },
  {
   "cell_type": "markdown",
   "metadata": {},
   "source": [
    "Add legend to the diagram:"
   ]
  },
  {
   "cell_type": "code",
   "execution_count": null,
   "metadata": {},
   "outputs": [],
   "source": [
    "exxon['revenue'].plot(kind='line', legend=True)\n",
    "exxon['profit'].plot(kind='line', legend=True)\n",
    "plt.show()"
   ]
  },
  {
   "cell_type": "markdown",
   "metadata": {},
   "source": [
    "The same can be done by calling the `plot()` method of a *Pandas DataFrame*. Be aware though, that in this case each plot will be displayed in an individual diagram:"
   ]
  },
  {
   "cell_type": "code",
   "execution_count": null,
   "metadata": {},
   "outputs": [],
   "source": [
    "exxon.plot(kind='line', x='year', y='revenue', legend=True)\n",
    "exxon.plot(kind='line', x='year', y='profit', legend=True)\n",
    "plt.show()"
   ]
  },
  {
   "cell_type": "markdown",
   "metadata": {},
   "source": [
    "This can be fixed by explicitly configuring matplotlib to use the same *axis object* for visualization for both diagrams:"
   ]
  },
  {
   "cell_type": "code",
   "execution_count": null,
   "metadata": {},
   "outputs": [],
   "source": [
    "ca = plt.gca() # gca = get current axis configuration object\n",
    "exxon.plot(kind='line', x='year', y='revenue', ax=ca, legend=True) # use the ca axis configuration object\n",
    "exxon.plot(kind='line', x='year', y='profit', ax=ca, legend=True) # use the ca axis configuration object\n",
    "plt.show()"
   ]
  },
  {
   "cell_type": "markdown",
   "metadata": {},
   "source": [
    "Use a different, secondary scale for the profit."
   ]
  },
  {
   "cell_type": "code",
   "execution_count": null,
   "metadata": {},
   "outputs": [],
   "source": [
    "exxon['revenue'].plot(kind='line', legend=True)\n",
    "exxon['profit'].plot(kind='line', secondary_y=True, legend=True)\n",
    "plt.show()"
   ]
  },
  {
   "cell_type": "markdown",
   "metadata": {},
   "source": [
    "---"
   ]
  },
  {
   "cell_type": "markdown",
   "metadata": {},
   "source": [
    "### Data groupping"
   ]
  },
  {
   "cell_type": "markdown",
   "metadata": {},
   "source": [
    "*Pandas* supports the groupping of data by the given column(s), which then can be used also for visualization."
   ]
  },
  {
   "cell_type": "markdown",
   "metadata": {},
   "source": [
    "Select the top 10 Fortune companies in year 1955.  \n",
    "Note that the original `fortune_history` DataFrame was ordered by year (ascending), then by revenue (descending), so no reordering is required."
   ]
  },
  {
   "cell_type": "code",
   "execution_count": null,
   "metadata": {},
   "outputs": [],
   "source": [
    "selected_companies = fortune_history.head(10)['company']\n",
    "display(selected_companies)"
   ]
  },
  {
   "cell_type": "markdown",
   "metadata": {},
   "source": [
    "Select the rows of the original DataFrame for these selected companies. Set the year column as an index for this filtered DataFrame."
   ]
  },
  {
   "cell_type": "code",
   "execution_count": null,
   "metadata": {},
   "outputs": [],
   "source": [
    "selected_history = fortune_history[fortune_history['company'].isin(selected_companies)]\n",
    "selected_history.set_index('year', inplace=True, drop=False)\n",
    "display(selected_history)"
   ]
  },
  {
   "cell_type": "markdown",
   "metadata": {},
   "source": [
    "The `selected_history` *DataFrame* now contains all historical data for the top 10 Fortune companies in year 1955."
   ]
  },
  {
   "cell_type": "markdown",
   "metadata": {},
   "source": [
    "Visualize the revenue change of the top 10 Fortune companies in 1955 for the next 51 years in a line diagram.  \n",
    "To achieve this, group the `selected_history` *DataFrame* by the `company` *Series*, then select the `revenue` *Series* and create a line plot."
   ]
  },
  {
   "cell_type": "code",
   "execution_count": null,
   "metadata": {},
   "outputs": [],
   "source": [
    "selected_history.groupby('company')['revenue'].plot(\n",
    "    kind='line', logy=True, \n",
    "    figsize=[15, 6], legend=True,\n",
    "    title='Revenue history of Top 10 Fortune companies 1955-2005')\n",
    "plt.show()"
   ]
  },
  {
   "cell_type": "markdown",
   "metadata": {},
   "source": [
    "---"
   ]
  },
  {
   "cell_type": "markdown",
   "metadata": {},
   "source": [
    "### Aggregate functions"
   ]
  },
  {
   "cell_type": "markdown",
   "metadata": {},
   "source": [
    "Aggregate functions (`min`, `max`, `mean`, `median`, `sum`, etc.) transforms a group of values to a single value. By calling on aggregate function on a grouped *DataFrame*, the aggregated value of each group is calculated."
   ]
  },
  {
   "cell_type": "markdown",
   "metadata": {},
   "source": [
    "Let's calculate the best rank (*minimum value*) for each company they ever had in the Fortune 500 list between 1955 and 2005."
   ]
  },
  {
   "cell_type": "code",
   "execution_count": null,
   "metadata": {},
   "outputs": [],
   "source": [
    "fortune_history.groupby('company').min()"
   ]
  },
  {
   "cell_type": "markdown",
   "metadata": {},
   "source": [
    "Sort the result by the `rank` and only display the `rank`:"
   ]
  },
  {
   "cell_type": "code",
   "execution_count": null,
   "metadata": {},
   "outputs": [],
   "source": [
    "best_rank = fortune_history.groupby('company').min().sort_values(by='rank')['rank']\n",
    "display(best_rank)"
   ]
  },
  {
   "cell_type": "markdown",
   "metadata": {},
   "source": [
    "---"
   ]
  },
  {
   "cell_type": "markdown",
   "metadata": {},
   "source": [
    "## Summary exercises on plotting"
   ]
  },
  {
   "cell_type": "markdown",
   "metadata": {},
   "source": [
    "### Exercise 1"
   ]
  },
  {
   "cell_type": "markdown",
   "metadata": {},
   "source": [
    "**Task:** Use the Fortune 500 dataset for year 2017 defined in the `fortune500` variable. That dataset contained the *sector* for each company. Compute for each sector how many companies belonged to it in 2017. Visualize the results in a pie a chart.\n",
    "\n",
    "*Hint:* use groupping."
   ]
  },
  {
   "cell_type": "code",
   "execution_count": null,
   "metadata": {},
   "outputs": [],
   "source": [
    "companies_by_sector = fortune500.groupby('sector').count()['rank']\n",
    "display(companies_by_sector)"
   ]
  },
  {
   "cell_type": "code",
   "execution_count": null,
   "metadata": {},
   "outputs": [],
   "source": [
    "companies_by_sector.plot(kind='pie', figsize=[10,10], autopct='%.1f%%', label=\"\", \n",
    "                         title=\"Sector distribution among the Fortune 500 companies in 2017\")\n",
    "plt.show()"
   ]
  },
  {
   "cell_type": "markdown",
   "metadata": {},
   "source": [
    "### Exercise 2"
   ]
  },
  {
   "cell_type": "markdown",
   "metadata": {},
   "source": [
    "**Task:** Calculate the accumulated revenue of the Fortune 500 companies for each year between 1955 and 2005.  \n",
    "Create a bar diagram visualizing how the aggregated revenue changed over the years."
   ]
  },
  {
   "cell_type": "code",
   "execution_count": null,
   "metadata": {},
   "outputs": [],
   "source": [
    "aggregated_by_year = fortune_history.groupby('year').sum()\n",
    "display(aggregated_by_year)"
   ]
  },
  {
   "cell_type": "code",
   "execution_count": null,
   "metadata": {},
   "outputs": [],
   "source": [
    "aggregated_by_year.plot(kind='bar', y='revenue', figsize=[15, 4], width=0.8, color='orange')\n",
    "plt.show()"
   ]
  }
 ],
 "metadata": {
  "kernelspec": {
   "display_name": "Python 3",
   "language": "python",
   "name": "python3"
  },
  "language_info": {
   "codemirror_mode": {
    "name": "ipython",
    "version": 3
   },
   "file_extension": ".py",
   "mimetype": "text/x-python",
   "name": "python",
   "nbconvert_exporter": "python",
   "pygments_lexer": "ipython3",
   "version": "3.6.6"
  }
 },
 "nbformat": 4,
 "nbformat_minor": 4
}
